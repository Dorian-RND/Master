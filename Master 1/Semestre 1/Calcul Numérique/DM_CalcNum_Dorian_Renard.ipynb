{
 "cells": [
  {
   "cell_type": "markdown",
   "metadata": {},
   "source": [
    "# Devoir Maison - Calcul Numérique\n",
    "### Etudiant : Dorian RENARD\n",
    "\n",
    "Ce devoir est à rendre pour le **lundi 8 novembre 23h00**\n",
    "\n",
    "L'objectif ici est d'étudier un modèle de classification, la régression logistique. Le modèle sera implémenté dans un premier temps à 1D sur un jeu de données simple, puis de manière **multi-dimensionnelle** sur le dataset iris.\n",
    "\n",
    "Concernant le rendu, j'attends de vous un notebook python clair et commenté. Vos commentaires sont **personnels** et doivent me permettre d'évaluer votre niveau d'investissement et de compréhension du problème. Vous déposerez vos notebook sur UMTICE dans l'espace dédié.\n",
    "\n",
    "N'hésitez pas à me solliciter par mail si vous avez un problème."
   ]
  },
  {
   "cell_type": "code",
   "execution_count": 2,
   "metadata": {},
   "outputs": [],
   "source": [
    "import numpy as np\n",
    "import matplotlib.pyplot as plt\n",
    "\n",
    "\n",
    "def plot(xs,ys):\n",
    "    \n",
    "    ax = fig.add_subplot(1, 1, 1)\n",
    "    ax.spines['left'].set_position('center')\n",
    "    ax.spines['bottom'].set_position('zero')\n",
    "    ax.spines['right'].set_color('none')\n",
    "    ax.spines['top'].set_color('none')\n",
    "    ax.xaxis.set_ticks_position('bottom')\n",
    "    ax.yaxis.set_ticks_position('left')\n",
    "\n",
    "    # plot the function\n",
    "    plt.plot(xs,ys, 'r')    "
   ]
  },
  {
   "cell_type": "markdown",
   "metadata": {},
   "source": [
    "# Données \n",
    "\n",
    "On définit nos données *data*. L'objectif est d'apprendre à reconnaître les tumeurs malignes (*y=1*) des tumeurs bénignes (*y=0*) en fonction de la taille de la tumeur (*x*)."
   ]
  },
  {
   "cell_type": "code",
   "execution_count": 3,
   "metadata": {},
   "outputs": [
    {
     "data": {
      "image/png": "[encoded data removed]",
      "text/plain": [
       "<Figure size 432x288 with 1 Axes>"
      ]
     },
     "metadata": {
      "needs_background": "light"
     },
     "output_type": "display_data"
    }
   ],
   "source": [
    "data=[(0,0), (1,0), (3,0), (5,0), (7,0), (7,1), (8,1), (10,1), (12,1)]\n",
    "xdata=[x for (x,y) in data]\n",
    "ydata=[y for (x,y) in data]\n",
    "#on affiche les données les tumeurs malignes et bénignes\n",
    "plt.figure()\n",
    "for x,y in data:\n",
    "    if y ==1:\n",
    "        plt.scatter(x, y, color='red', alpha=.8)\n",
    "    else:\n",
    "        plt.scatter(x, y, color='blue', alpha=.8)\n",
    "plt.show()"
   ]
  },
  {
   "cell_type": "markdown",
   "metadata": {},
   "source": [
    "# Partie 1: Modèle en 1D\n",
    "\n",
    "On choisit de modéliser notre classifieur comme une régression logistique basée sur la fonction sigmoïde. Puisque nos données sont représentées sur une seule dimension, nous avons deux paramètres à apprendre, *theta0* et *theta1*."
   ]
  },
  {
   "cell_type": "code",
   "execution_count": 4,
   "metadata": {},
   "outputs": [],
   "source": [
    "#La sigmoïde telle que décrite dans les livres avec les moins devant tous nos paramètres theta\n",
    "def h(x, teta0, teta1):\n",
    "    return 1/(1+np.exp(-teta0 - teta1 * x))"
   ]
  },
  {
   "cell_type": "markdown",
   "metadata": {},
   "source": [
    "En utilisant le fonction `plot` définie plus haut, tracer la fonction sigmoïde entre -12 et 12, avec *theta0=0* et *theta1=1*"
   ]
  },
  {
   "cell_type": "code",
   "execution_count": 5,
   "metadata": {},
   "outputs": [
    {
     "data": {
      "text/plain": [
       "[<matplotlib.lines.Line2D at 0x7f9e7525aa30>]"
      ]
     },
     "execution_count": 5,
     "metadata": {},
     "output_type": "execute_result"
    },
    {
     "data": {
      "image/png": "[encoded data removed]",
      "text/plain": [
       "<Figure size 432x288 with 1 Axes>"
      ]
     },
     "metadata": {
      "needs_background": "light"
     },
     "output_type": "display_data"
    }
   ],
   "source": [
    "theta0=0\n",
    "theta1=1\n",
    "#on créé le vecteur temps entre -12 et 12\n",
    "y = np.linspace(-12,12)\n",
    "#on affiche le graphque de la fonction sigmoïde grâce aux theta\n",
    "plt.plot(y, h(y,theta0, theta1))"
   ]
  },
  {
   "cell_type": "markdown",
   "metadata": {},
   "source": [
    "### Les paramètres du modèle\n",
    "\n",
    "Que se passe-t-il lorsque l'on modifie *theta0* et *theta1* ?\n",
    "*theta0* permet de déplacer la sigmoïde sur l'axe des abscisses quant *theta1* modifie *l'inflexion* de la sigmoïde."
   ]
  },
  {
   "cell_type": "markdown",
   "metadata": {},
   "source": [
    "### *Fitter* le modèle à la main\n",
    "\n",
    "Une fois que l'on connait l'impact de *theta0* et *theta1*, on peut s'amuser à essayer de trouver nous mêmes ces paramètres comme ci-dessous, avec une régression logistique qui classifierait plutôt bien nos données.\n",
    "\n",
    "Afficher sur le même graphique, vos données et la fonction sigmoïde (entre -12 et 12 donc). Vous définirez un jeu de paramètres `(theta0, theta1)` qui permet à la fonction de s'approcher au mieux des données."
   ]
  },
  {
   "cell_type": "code",
   "execution_count": 6,
   "metadata": {},
   "outputs": [
    {
     "data": {
      "image/png": "[encoded data removed]",
      "text/plain": [
       "<Figure size 432x288 with 1 Axes>"
      ]
     },
     "metadata": {
      "needs_background": "light"
     },
     "output_type": "display_data"
    }
   ],
   "source": [
    "#on affiche la fonction sigmoïde avec les données des tumeurs malignes et bénignes avec des theta0 et theta1 qui permettent à la fonction de s'approcher au mieux des données des tumeurs.\n",
    "plt.figure()\n",
    "for x,y in data:\n",
    "    if y ==1:\n",
    "        plt.scatter(x, y, color='red', alpha=.8)\n",
    "    else:\n",
    "        plt.scatter(x, y, color='blue', alpha=.8)\n",
    "        \n",
    "theta0=-31\n",
    "theta1=5\n",
    "\n",
    "y = np.linspace(-12,12)\n",
    "plt.plot(y, h(y,theta0, theta1))\n",
    "plt.show()\n",
    "        \n",
    "        "
   ]
  },
  {
   "cell_type": "markdown",
   "metadata": {},
   "source": [
    "# *Fitter*/apprendre automatiquement les paramètres du modèle\n",
    "\n",
    "### La fonction d'erreur *J*\n",
    "\n",
    "La fonction de coût pour la régression linéaire se définit comme la somme des erreurs quadratiques obtenues sur les N échantillons entre la valeur prédite par le modèle `h(x, theta)` et la valeur de référence `y`. `theta` représente ici le vecteur de paramètres, par exemple `theta = (theta0, theta1)` en 1D.\n",
    "  \n",
    "$$J(\\theta) = \\dfrac{1}{N} \\sum_{i=1}^N \\left(h(x_i, \\theta) - y_i\\right)^2$$\n",
    "\n",
    "On définit alors le coût local obtenu sur l'échantillon i: $J_i (\\theta) = \\left(h(x_i, \\theta) - y_i\\right)^2 $\n",
    "\n",
    "Alors le coût global s'écrit comme la somme des coûts locaux:\n",
    "\n",
    "$$J(\\theta) = \\dfrac{1}{N} \\sum_{i=1}^N J_i (\\theta)$$\n",
    "\n",
    "Dans le cas de la régression logistique, on cherche à réaliser non plus une régression, mais une classification. Le coût local s'écrit alors:\n",
    "\n",
    "$$J_i (\\theta) = \\left\\{ \\begin{array}{ll} - \\log(h(x_i, \\theta)) & \\text{si} \\quad y_i=1\\\\\n",
    "- \\log(1-h(x_i, \\theta)) & \\text{si} \\quad y_i=0\n",
    "\\end{array}\\right.$$\n",
    "\n",
    "On peut réécrire cette fonction comme suit:\n",
    "$$J_i(\\theta) = - \\left[y_i \\log(h(x_i, \\theta)) + (1 - y_i)\\log(1-h(x_i, \\theta))\\right] $$\n",
    "\n",
    "* [] *bonus* montrer qu'il y a bien équivalence entre les deux écritures\n",
    "* [] La fonction de coût est censée pénaliser les valeurs de `theta` qui entraine un éloignement de la valeur prédite par rapport à la valeur de référence. Faites le lien avec la définition mathématique ci-dessus. Notamment quel est l'intérêt d'introduire un logarithme.\n",
    "* [] Quel est l'inconvénient du logarithme dans ce cas ?\n",
    "* [] Implémenter cette fonction de coût globale, que l'on notera `jobj`\n",
    "* [] Observer les valeurs retournées par `jobj` en fonction des différentes valeurs de `theta0, theta1` que vous avez testé auparavant. L'erreur doit être de plus en plus faible lorsqu'on s'approche du paramètre optimal.\n",
    "\n",
    "Tout d'abord, on calcule la fonction d'erreur *jobj* qu'il s'agit de minimiser, puisque c'est une fonction d'erreur. On constate que l'erreur du modèle *fitté* à la main est faible.\n",
    "\n",
    "theta0=-7 ; theta1=1"
   ]
  },
  {
   "cell_type": "code",
   "execution_count": 7,
   "metadata": {},
   "outputs": [
    {
     "name": "stdout",
     "output_type": "stream",
     "text": [
      "L'erreur est de :  1.8959912722793595\n"
     ]
    }
   ],
   "source": [
    "#Questions\n",
    "# - L'intérêt d'introduire un logarithme c'est qu'il permet de nous retourner un taux d'erreur entre 0 et 1.\n",
    "#Donc plus ton logarithme est proche de 1, moins d'erreur il y a. \n",
    "#Pour la deuxième partie de la formule on fait \"1-log(x)\" car on veut s'approcher de 0. Ça permet d'inverser les résultats pour pouvoir comparer avec le résultat du \"log(x)\".\n",
    "# \n",
    "# - L'inconvénient du logarithme dans ce cas c'estr que log(0) n'est pas possibla, ça retourne une erreur et dans la partie de la formule dite juste au dessus on essaye justement de se rapprocher un maximum de 0.\n",
    "\n",
    "\n",
    "#la fonction jobj permet de calculer l'erreur en fonction des différentes valeurs de theta0 et theta1\n",
    "def jobj(xdata, ydata, theta0, theta1):\n",
    "    somme = 0\n",
    "    for i in range(len(data)):\n",
    "        somme = somme+(-(ydata[i]*np.log(h(xdata[i], theta0, theta1)) + (1-ydata[i])*np.log(1-h(xdata[i], theta0, theta1))))\n",
    "    j = 1/len(data)*somme\n",
    "    return j\n",
    "\n",
    "theta0=0\n",
    "theta1=1\n",
    "\n",
    "print(\"L'erreur est de : \", jobj(xdata, ydata, theta0, theta1))"
   ]
  },
  {
   "cell_type": "markdown",
   "metadata": {},
   "source": [
    "### Gradient sur *theta0*\n",
    "\n",
    "\n",
    "\n",
    "La fonction à minimiser est ici la fonction de coût $J(\\theta)$, il faut donc définir son gradient sur le paramètre *theta0*, soit déterminer \n",
    "$$\\dfrac{\\partial J}{\\partial \\theta_0}(\\theta) = \\dfrac{1}{N}\\sum_{i=1}^N \\dfrac{\\partial J_i}{\\partial \\theta_0}(\\theta) $$\n",
    "\n",
    "Pour cela, il faut dériver le coût local par rapport à *theta0*, sachant que $J_i(\\theta) = - \\left[y_i \\log(h(x_i, \\theta)) + (1 - y_i)\\log(1-h(x_i, \\theta))\\right] $\n",
    "\n",
    "$$\\dfrac{\\partial J_i}{\\partial \\theta_0} = \\dfrac{\\partial J_i}{\\partial h(x_i, \\theta)} \\times \\dfrac{\\partial h(x_i, \\theta)}{\\partial \\theta_0}$$\n",
    "\n",
    "- [] Démontrer que $\\dfrac{\\partial J_i}{\\partial \\theta_0} = h(x_i, \\theta) - y_i$\n",
    "- [] Implémenter une fonction `deltajtheta0` qui prend en entrée un vecteur d'entrée `xdata`, les valeurs de références associées `ydata` et les paramètres du modèle, ici `theta0, theta1`. Cette fonction retourne le gradient sur *theta0*.\n",
    "- [] Proposer une descente de gradient sur 100 itérations, avec une vitesse d'apprentissage de 1. Vous ajouterez une visualisation de la convergence en fonction des itérations. En partant de (theta0=0 ; theta1=1), on va apprendra via le gradient le paramètre *theta0* qui converge presque vers *-7*.\n",
    "- [] Varier la vitesse d'apprentissage et observer la convergence"
   ]
  },
  {
   "cell_type": "code",
   "execution_count": 8,
   "metadata": {},
   "outputs": [
    {
     "name": "stdout",
     "output_type": "stream",
     "text": [
      "-0.46385898444062007\n",
      "-1.1029976740425471\n",
      "-1.936359522515908\n",
      "-2.9448994091828666\n",
      "-4.05557717376192\n",
      "-5.133084274807807\n",
      "-5.994478843072294\n",
      "-6.501371195970083\n",
      "-6.7058044368998235\n",
      "-6.7677704734541395\n",
      "-6.7843312295886316\n",
      "-6.788587791417351\n",
      "-6.789670433039346\n",
      "-6.7899450572120275\n",
      "-6.790014670906593\n",
      "-6.79003231400992\n",
      "-6.79003678533351\n",
      "-6.7900379184964565\n",
      "-6.790038205671965\n",
      "-6.790038278450301\n",
      "-6.79003829689437\n",
      "-6.7900383015686145\n",
      "-6.7900383027531985\n",
      "-6.790038303053406\n",
      "-6.790038303129487\n",
      "-6.790038303148768\n",
      "-6.790038303153654\n",
      "-6.790038303154892\n",
      "-6.790038303155207\n",
      "-6.790038303155286\n",
      "-6.790038303155306\n",
      "-6.790038303155311\n",
      "-6.790038303155312\n",
      "-6.790038303155312\n",
      "-6.790038303155312\n",
      "-6.790038303155312\n",
      "-6.790038303155312\n",
      "-6.790038303155312\n",
      "-6.790038303155312\n",
      "-6.790038303155312\n",
      "-6.790038303155312\n",
      "-6.790038303155312\n",
      "-6.790038303155312\n",
      "-6.790038303155312\n",
      "-6.790038303155312\n",
      "-6.790038303155312\n",
      "-6.790038303155312\n",
      "-6.790038303155312\n",
      "-6.790038303155312\n",
      "-6.790038303155312\n",
      "-6.790038303155312\n",
      "-6.790038303155312\n",
      "-6.790038303155312\n",
      "-6.790038303155312\n",
      "-6.790038303155312\n",
      "-6.790038303155312\n",
      "-6.790038303155312\n",
      "-6.790038303155312\n",
      "-6.790038303155312\n",
      "-6.790038303155312\n",
      "-6.790038303155312\n",
      "-6.790038303155312\n",
      "-6.790038303155312\n",
      "-6.790038303155312\n",
      "-6.790038303155312\n",
      "-6.790038303155312\n",
      "-6.790038303155312\n",
      "-6.790038303155312\n",
      "-6.790038303155312\n",
      "-6.790038303155312\n",
      "-6.790038303155312\n",
      "-6.790038303155312\n",
      "-6.790038303155312\n",
      "-6.790038303155312\n",
      "-6.790038303155312\n",
      "-6.790038303155312\n",
      "-6.790038303155312\n",
      "-6.790038303155312\n",
      "-6.790038303155312\n",
      "-6.790038303155312\n",
      "-6.790038303155312\n",
      "-6.790038303155312\n",
      "-6.790038303155312\n",
      "-6.790038303155312\n",
      "-6.790038303155312\n",
      "-6.790038303155312\n",
      "-6.790038303155312\n",
      "-6.790038303155312\n",
      "-6.790038303155312\n",
      "-6.790038303155312\n",
      "-6.790038303155312\n",
      "-6.790038303155312\n",
      "-6.790038303155312\n",
      "-6.790038303155312\n",
      "-6.790038303155312\n",
      "-6.790038303155312\n",
      "-6.790038303155312\n",
      "-6.790038303155312\n",
      "-6.790038303155312\n",
      "-6.790038303155312\n"
     ]
    }
   ],
   "source": [
    "#la fonction deltajtheta0 permet de calculer le gradient sur theta0\n",
    "def deltajtheta0(xdata, ydata, theta0, theta1):\n",
    "    x=0\n",
    "    for i in range(len(data)):\n",
    "        x = x + (h(xdata[i], theta0, theta1)-ydata[i])*(theta1-theta0)\n",
    "    gradj = 1/len(data)*x\n",
    "    return gradj\n",
    "    \n",
    "\n",
    "#La descente de Gradient sur 100 itérations \n",
    "theta0=0\n",
    "theta1=1\n",
    "vitesse_apprentissage = 1\n",
    "for i in range(100):\n",
    "    theta0=theta0-vitesse_apprentissage*deltajtheta0(xdata, ydata, theta0, theta1)\n",
    "    print(theta0)"
   ]
  },
  {
   "cell_type": "markdown",
   "metadata": {},
   "source": [
    "### Gradient sur *theta0* et *theta1*\n",
    "\n",
    "- [] Démontrer que $\\dfrac{\\partial J_i}{\\partial \\theta_1} = x_i \\cdot (h(x_i, \\theta) - y_i)$\n",
    "- [] Implémenter une fonction `deltajtheta1` qui prend en entrée un vecteur d'entrée `xdata`, les valeurs de références associées `ydata` et les paramètres du modèle, ici `theta0, theta1`. Cette fonction retourne le gradient sur *theta1*.\n",
    "- [] Proposer une descente de gradient sur 100 itérations, avec une vitesse d'apprentissage de 1 sur *theta0* et 0.3 sur *theta1*. Vous ajouterez une visualisation de la convergence en fonction des itérations. En partant de (theta0=0 ; theta1=1), on va apprendra via le gradient les paramètres *theta0* et *theta1*. On obtient une erreur encore plus faible avec cette optimisation !\n",
    "- [] Varier les vitesses d'apprentissage et observer la convergence"
   ]
  },
  {
   "cell_type": "code",
   "execution_count": 11,
   "metadata": {},
   "outputs": [
    {
     "name": "stderr",
     "output_type": "stream",
     "text": [
      "<ipython-input-4-a35cad0534bf>:3: RuntimeWarning: overflow encountered in exp\n",
      "  return 1/(1+np.exp(-teta0 - teta1 * x))\n"
     ]
    },
    {
     "data": {
      "image/png": "[encoded data removed]",
      "text/plain": [
       "<Figure size 432x288 with 1 Axes>"
      ]
     },
     "metadata": {
      "needs_background": "light"
     },
     "output_type": "display_data"
    },
    {
     "data": {
      "image/png": "[encoded data removed]",
      "text/plain": [
       "<Figure size 432x288 with 1 Axes>"
      ]
     },
     "metadata": {
      "needs_background": "light"
     },
     "output_type": "display_data"
    }
   ],
   "source": [
    "#la fonction deltajtheta1 permet de calculer le gradient sur theta1\n",
    "def deltajtheta1(xdata, ydata, theta0, theta1):\n",
    "    d=0\n",
    "    for i in range(len(data)):\n",
    "        d=d+(xdata[i] * ((h(xdata[i],theta0, theta1)) - ydata[i]) * (theta1 - theta0))\n",
    "    return 1/len(data)*d\n",
    "\n",
    "vitesse_apprentisage0=1\n",
    "vitesse_apprentisage1=0.3\n",
    "\n",
    "#Descente de Gradient sur 100 itérations \n",
    "theta0=0\n",
    "theta0_tmp=0\n",
    "theta1=1\n",
    "tab_theta0=[]\n",
    "tab_theta1=[]\n",
    "for i in range(500):\n",
    "    tab_theta0.append(theta0)\n",
    "    tab_theta1.append(theta1)\n",
    "    theta0_tmp=theta0\n",
    "    theta0=theta0-vitesse_apprentisage0*deltajtheta0(xdata, ydata, theta0, theta1)\n",
    "    theta1=theta1-vitesse_apprentisage1*deltajtheta1(xdata, ydata, theta0_tmp, theta1)\n",
    "    \n",
    "plt.plot(range(len(tab_theta0)),tab_theta0)\n",
    "plt.title(\"Résultats de la descente de Gradient pour theta0\")\n",
    "plt.xlabel(\"nb valeurs\")\n",
    "plt.ylabel(\"theta0\")\n",
    "plt.show()\n",
    "\n",
    "plt.plot(range(len(tab_theta1)),tab_theta1)\n",
    "plt.title(\"Résultats de la descente de Gradient pour theta1\")\n",
    "plt.xlabel(\"nb valeurs\")\n",
    "plt.ylabel(\"theta1\")\n",
    "plt.show()"
   ]
  },
  {
   "cell_type": "markdown",
   "metadata": {},
   "source": [
    "### L'erreur J en fonction de *theta0* et *theta1*\n",
    "\n",
    "Dans un plan 2D, tracer les isoclines de la fonction de coût $J$ en fonction des valeurs des paramètres *theta0* et *theta1*. Vous devriez pouvoir confirmer les valeurs obtenues avec la descente de gradient."
   ]
  },
  {
   "cell_type": "code",
   "execution_count": 10,
   "metadata": {},
   "outputs": [
    {
     "name": "stderr",
     "output_type": "stream",
     "text": [
      "<ipython-input-10-21b1bf61e707>:9: UserWarning: No contour levels were found within the data range.\n",
      "  CS = plt.contour(theta0, theta1, j_vals, linewidths=1,colors='black')\n"
     ]
    },
    {
     "data": {
      "image/png": "[encoded data removed]",
      "text/plain": [
       "<Figure size 432x288 with 1 Axes>"
      ]
     },
     "metadata": {
      "needs_background": "light"
     },
     "output_type": "display_data"
    }
   ],
   "source": [
    "theta0 = np.linspace(-10, 0, 100)\n",
    "theta1 = np.linspace(0, 2, 100)\n",
    "j_vals = np.zeros(shape=(theta0.size, theta1.size))\n",
    "\n",
    "#vous pouvez utiliser cet élément de code afin de visualiser la fonction de coût.\n",
    "plt.contourf(theta0, theta1, j_vals,alpha=.7)\n",
    "plt.axhline(color='black', alpha=.5, dashes=[2, 4],linewidth=1)\n",
    "plt.axvline(color='black', alpha=0.5, dashes=[2, 4],linewidth=1) \n",
    "CS = plt.contour(theta0, theta1, j_vals, linewidths=1,colors='black')\n",
    "plt.clabel(CS, inline=1, fontsize=8)\n",
    "plt.title(\"Contour Plot of Gradient Descent\")\n",
    "plt.xlabel(\"theta0\")\n",
    "plt.ylabel(\"theta1\")\n",
    "plt.show()"
   ]
  },
  {
   "cell_type": "markdown",
   "metadata": {},
   "source": [
    "# Partie 2: Régression logistique multi-dimensionnelle.\n",
    "\n",
    "Pour cette 2ème partie du DM, vous devez reprendre l'ensemble des questions abordées en 1D et les appliquées sur le jeu de données iris vu en TP. Cette fois $x_i$ représentera un vecteur de 4 paramètres, les caractéristiques des fleurs et nous aurons 3 classes en sortie.\n",
    "La régression logistique permettant une classification binaire, vous devrez réaliser la classification sur 2 classes en même temps.\n",
    "\n",
    "Cette partie prendra un peu plus de temps de réflexion que la première mais vous permettra de prendre de l'autonomie sur les algorithmes de classification en apprentissage automatique."
   ]
  }
 ],
 "metadata": {
  "kernelspec": {
   "display_name": "Python 3",
   "language": "python",
   "name": "python3"
  },
  "language_info": {
   "codemirror_mode": {
    "name": "ipython",
    "version": 3
   },
   "file_extension": ".py",
   "mimetype": "text/x-python",
   "name": "python",
   "nbconvert_exporter": "python",
   "pygments_lexer": "ipython3",
   "version": "3.8.8"
  }
 },
 "nbformat": 4,
 "nbformat_minor": 2
}
